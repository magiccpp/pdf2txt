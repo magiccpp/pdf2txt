{
 "cells": [
  {
   "cell_type": "markdown",
   "metadata": {},
   "source": [
    "## doc2pdf , must run under Windows."
   ]
  },
  {
   "cell_type": "code",
   "execution_count": null,
   "metadata": {},
   "outputs": [],
   "source": [
    "import win32com.client\n",
    "\n",
    "def convert_docx_to_pdf(docx_path, pdf_path):\n",
    "    word = win32com.client.Dispatch('Word.Application')\n",
    "    doc = word.Documents.Open(docx_path)\n",
    "    doc.SaveAs(pdf_path, FileFormat=17)  # 17 refers to the PDF format\n",
    "    doc.Close()\n",
    "    word.Quit()\n",
    "\n",
    "import os\n",
    "docx_path = os.path.abspath('1706.03762v7.docx')\n",
    "pdf_path = os.path.abspath('1706.03762v7.pdf')\n",
    "\n",
    "\n",
    "#docx_path = '1706.03762v7.docx'\n",
    "#pdf_path = '1706.03762v7.pdf'\n",
    "convert_docx_to_pdf(docx_path, pdf_path)\n"
   ]
  }
 ],
 "metadata": {
  "kernelspec": {
   "display_name": "openai3",
   "language": "python",
   "name": "python3"
  },
  "language_info": {
   "name": "python",
   "version": "3.11.5"
  }
 },
 "nbformat": 4,
 "nbformat_minor": 2
}
